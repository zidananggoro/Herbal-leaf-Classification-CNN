{
  "cells": [
    {
      "cell_type": "markdown",
      "metadata": {
        "id": "view-in-github",
        "colab_type": "text"
      },
      "source": [
        "<a href=\"https://colab.research.google.com/github/zidananggoro/Herbal-leaf-Classification-CNN/blob/main/Uas_Kecerdasan_Buatan_Zidan_Tri_105_Muhammad_Naufal_135.ipynb\" target=\"_parent\"><img src=\"https://colab.research.google.com/assets/colab-badge.svg\" alt=\"Open In Colab\"/></a>"
      ]
    },
    {
      "cell_type": "code",
      "execution_count": null,
      "metadata": {
        "colab": {
          "base_uri": "https://localhost:8080/"
        },
        "id": "75pr6y7Dyb5v",
        "outputId": "398f0f41-128d-4230-fc61-b1770c07b3ed"
      },
      "outputs": [
        {
          "output_type": "stream",
          "name": "stdout",
          "text": [
            "Drive already mounted at /content/gdrive; to attempt to forcibly remount, call drive.mount(\"/content/gdrive\", force_remount=True).\n"
          ]
        }
      ],
      "source": [
        "from google.colab import drive\n",
        "drive.mount('/content/gdrive')"
      ]
    },
    {
      "cell_type": "code",
      "execution_count": null,
      "metadata": {
        "colab": {
          "base_uri": "https://localhost:8080/"
        },
        "id": "lYha5HmfyeeQ",
        "outputId": "dc502636-7a2c-4d40-e374-545b31a320ca"
      },
      "outputs": [
        {
          "output_type": "stream",
          "name": "stdout",
          "text": [
            "Mounted at /content/drive\n"
          ]
        }
      ],
      "source": [
        "from google.colab import drive\n",
        "drive.mount('/content/drive')"
      ]
    },
    {
      "cell_type": "code",
      "execution_count": null,
      "metadata": {
        "colab": {
          "base_uri": "https://localhost:8080/"
        },
        "id": "AYMSfQZuyrpo",
        "outputId": "a8df452d-aa81-4a1d-e6f2-4e235037368b"
      },
      "outputs": [
        {
          "output_type": "stream",
          "name": "stdout",
          "text": [
            "[Errno 107] Transport endpoint is not connected: '/content/gdrive/My Drive/Colab Notebooks/uas'\n",
            "/content\n"
          ]
        }
      ],
      "source": [
        "%cd /content/gdrive/My Drive/Colab Notebooks/uas"
      ]
    },
    {
      "cell_type": "code",
      "execution_count": null,
      "metadata": {
        "colab": {
          "base_uri": "https://localhost:8080/"
        },
        "id": "XCjKq_nKyvPH",
        "outputId": "e46fa7ae-4495-49ad-8161-63998abb79fb"
      },
      "outputs": [
        {
          "output_type": "stream",
          "name": "stdout",
          "text": [
            "jumlah dataset Training :  700\n",
            "jumlah dataset validasi :  705\n",
            "\n",
            "\n",
            "\n",
            "jumlah train kelas belimbing :  350\n",
            "jumlah train kelas jeruk :  350\n"
          ]
        }
      ],
      "source": [
        "import os\n",
        "\n",
        "\n",
        "\n",
        "train_dir = \"/content/drive/My Drive/Colab Notebooks/uas/train\"\n",
        "val_dir = \"/content/drive/My Drive/Colab Notebooks/uas/test\"\n",
        "\n",
        "belimbing_train_path = train_dir +'/Belimbing Wuluh'\n",
        "jeruk_train_path = train_dir +'/Jeruk Nipis'\n",
        "belimbing_val_path = val_dir +'/Belimbing Wuluh'\n",
        "jeruk_val_path = val_dir +'/Jeruk Nipis'\n",
        "\n",
        "\n",
        "\n",
        "\n",
        "belimbing_len_train = len(os.listdir(belimbing_train_path))\n",
        "jeruk_len_train = len(os.listdir(jeruk_train_path))\n",
        "belimbing_len_val = len(os.listdir(belimbing_val_path))\n",
        "jeruk_len_val = len(os.listdir(jeruk_val_path))\n",
        "\n",
        "\n",
        "\n",
        "\n",
        "print(\"jumlah dataset Training : \", belimbing_len_train + jeruk_len_train )\n",
        "print(\"jumlah dataset validasi : \", belimbing_len_val + jeruk_len_val  )\n",
        "print(\"\\n\\n\")\n",
        "print(\"jumlah train kelas belimbing : \", belimbing_len_train)\n",
        "print(\"jumlah train kelas jeruk : \", jeruk_len_train)\n"
      ]
    },
    {
      "cell_type": "code",
      "execution_count": null,
      "metadata": {
        "id": "P8gyzfP24YzJ"
      },
      "outputs": [],
      "source": [
        "import tensorflow as tf\n",
        "from tensorflow.keras.optimizers import Adam\n",
        "from tensorflow.keras.preprocessing.image import ImageDataGenerator"
      ]
    },
    {
      "cell_type": "code",
      "execution_count": null,
      "metadata": {
        "colab": {
          "base_uri": "https://localhost:8080/"
        },
        "id": "UD-1Wl6g4dNX",
        "outputId": "6038504e-1d1d-41f5-c3cc-935a347507cb"
      },
      "outputs": [
        {
          "output_type": "stream",
          "name": "stdout",
          "text": [
            "Found 700 images belonging to 2 classes.\n",
            "Found 705 images belonging to 2 classes.\n"
          ]
        }
      ],
      "source": [
        "train_datagen = ImageDataGenerator(\n",
        "      rescale=1./255,\n",
        "      rotation_range=40,\n",
        "      width_shift_range=0.2,\n",
        "      height_shift_range=0.2,\n",
        "      shear_range=0.2,\n",
        "      zoom_range=0.2,\n",
        "      horizontal_flip=True,\n",
        "      fill_mode='nearest')\n",
        "\n",
        "test_datagen = ImageDataGenerator(rescale=1./255)\n",
        "\n",
        "train_generator = train_datagen.flow_from_directory(\n",
        "        train_dir,\n",
        "        target_size=(150, 150),\n",
        "        batch_size=20,\n",
        "        class_mode='binary')\n",
        "\n",
        "validation_generator = test_datagen.flow_from_directory(\n",
        "        val_dir,\n",
        "        target_size=(150, 150),\n",
        "        batch_size=20,\n",
        "        class_mode='binary')"
      ]
    },
    {
      "cell_type": "code",
      "execution_count": null,
      "metadata": {
        "id": "ObyiZ8-g4pn3"
      },
      "outputs": [],
      "source": [
        "from tensorflow.keras.models import Sequential\n",
        "from tensorflow.keras.layers import InputLayer, Dense, Conv2D, AveragePooling2D, Flatten, GlobalAveragePooling2D, Dropout"
      ]
    },
    {
      "cell_type": "code",
      "execution_count": null,
      "metadata": {
        "id": "3xb5-owY4s_n"
      },
      "outputs": [],
      "source": [
        "model = Sequential()\n",
        "\n",
        "model.add(InputLayer(input_shape=[150, 150,3]))\n",
        "model.add(Conv2D(filters=64, kernel_size=3, strides=1, padding='same', activation='relu'))\n",
        "model.add(AveragePooling2D(pool_size=2, padding='same'))\n",
        "model.add(Conv2D(filters=128, kernel_size=3, strides=1, padding='same', activation='relu'))\n",
        "model.add(AveragePooling2D(pool_size=2, padding='same'))\n",
        "model.add(Conv2D(filters=256, kernel_size=3, strides=1, padding='same', activation='relu'))\n",
        "model.add(AveragePooling2D(pool_size=2, padding='same'))\n",
        "model.add(Conv2D(filters=256, kernel_size=3, strides=1, padding='same', activation='relu'))\n",
        "model.add(AveragePooling2D(pool_size=2, padding='same'))\n",
        "model.add(GlobalAveragePooling2D())\n",
        "model.add(Flatten())\n",
        "model.add(Dropout(0.0001))"
      ]
    },
    {
      "cell_type": "code",
      "execution_count": null,
      "metadata": {
        "id": "5ylBpYzg4zTX"
      },
      "outputs": [],
      "source": [
        "model.add(Dense(1024, activation='relu'))\n",
        "model.add(Dropout(0.0001))\n",
        "model.add(Dense(1024, activation='relu'))\n",
        "model.add(Dropout(0.0001))\n",
        "model.add(Dense(1, activation='sigmoid'))"
      ]
    },
    {
      "cell_type": "code",
      "execution_count": null,
      "metadata": {
        "colab": {
          "base_uri": "https://localhost:8080/"
        },
        "id": "4DYI6ZWM45nw",
        "outputId": "ad8ab1ef-122d-4b04-9051-89aa2e31ea93"
      },
      "outputs": [
        {
          "output_type": "stream",
          "name": "stdout",
          "text": [
            "Model: \"sequential\"\n",
            "_________________________________________________________________\n",
            " Layer (type)                Output Shape              Param #   \n",
            "=================================================================\n",
            " conv2d (Conv2D)             (None, 150, 150, 64)      1792      \n",
            "                                                                 \n",
            " average_pooling2d (AverageP  (None, 75, 75, 64)       0         \n",
            " ooling2D)                                                       \n",
            "                                                                 \n",
            " conv2d_1 (Conv2D)           (None, 75, 75, 128)       73856     \n",
            "                                                                 \n",
            " average_pooling2d_1 (Averag  (None, 38, 38, 128)      0         \n",
            " ePooling2D)                                                     \n",
            "                                                                 \n",
            " conv2d_2 (Conv2D)           (None, 38, 38, 256)       295168    \n",
            "                                                                 \n",
            " average_pooling2d_2 (Averag  (None, 19, 19, 256)      0         \n",
            " ePooling2D)                                                     \n",
            "                                                                 \n",
            " conv2d_3 (Conv2D)           (None, 19, 19, 256)       590080    \n",
            "                                                                 \n",
            " average_pooling2d_3 (Averag  (None, 10, 10, 256)      0         \n",
            " ePooling2D)                                                     \n",
            "                                                                 \n",
            " global_average_pooling2d (G  (None, 256)              0         \n",
            " lobalAveragePooling2D)                                          \n",
            "                                                                 \n",
            " flatten (Flatten)           (None, 256)               0         \n",
            "                                                                 \n",
            " dropout (Dropout)           (None, 256)               0         \n",
            "                                                                 \n",
            " dense (Dense)               (None, 1024)              263168    \n",
            "                                                                 \n",
            " dropout_1 (Dropout)         (None, 1024)              0         \n",
            "                                                                 \n",
            " dense_1 (Dense)             (None, 1024)              1049600   \n",
            "                                                                 \n",
            " dropout_2 (Dropout)         (None, 1024)              0         \n",
            "                                                                 \n",
            " dense_2 (Dense)             (None, 1)                 1025      \n",
            "                                                                 \n",
            "=================================================================\n",
            "Total params: 2,274,689\n",
            "Trainable params: 2,274,689\n",
            "Non-trainable params: 0\n",
            "_________________________________________________________________\n",
            "None\n"
          ]
        }
      ],
      "source": [
        "print(model.summary())"
      ]
    },
    {
      "cell_type": "code",
      "execution_count": null,
      "metadata": {
        "colab": {
          "base_uri": "https://localhost:8080/"
        },
        "id": "9x6NVvGh49HP",
        "outputId": "9b0c2b9c-3b71-4c8a-e0fa-0e474a5c03e4"
      },
      "outputs": [
        {
          "output_type": "stream",
          "name": "stderr",
          "text": [
            "/usr/local/lib/python3.8/dist-packages/keras/optimizers/optimizer_v2/adam.py:110: UserWarning: The `lr` argument is deprecated, use `learning_rate` instead.\n",
            "  super(Adam, self).__init__(name, **kwargs)\n"
          ]
        }
      ],
      "source": [
        "from tensorflow.keras.optimizers import Adam\n",
        "\n",
        "model.compile(optimizer=Adam(lr=0.0001), \n",
        "              loss='binary_crossentropy', \n",
        "              metrics=['acc'])"
      ]
    },
    {
      "cell_type": "code",
      "execution_count": null,
      "metadata": {
        "id": "SIM_AerS4-ZH"
      },
      "outputs": [],
      "source": [
        "from keras.callbacks import ModelCheckpoint, EarlyStopping"
      ]
    },
    {
      "cell_type": "code",
      "execution_count": null,
      "metadata": {
        "id": "tLs4MFwAMCR8"
      },
      "outputs": [],
      "source": [
        "callbacks = EarlyStopping(monitor='val_loss', patience=30, verbose=1, mode='auto')        \n",
        "directory_to_save_best_model_file = '/content/drive/My Drive/Colab Notebooks/uas/model.h5'\n",
        "best_model = ModelCheckpoint(directory_to_save_best_model_file, monitor='val_acc', verbose = 1, save_best_only = True)"
      ]
    },
    {
      "cell_type": "code",
      "execution_count": null,
      "metadata": {
        "colab": {
          "base_uri": "https://localhost:8080/"
        },
        "id": "TVwDAV_dMHyP",
        "outputId": "7f1e21c3-5a99-47f8-9a28-43d468dc18ca"
      },
      "outputs": [
        {
          "output_type": "stream",
          "name": "stdout",
          "text": [
            "Epoch 1/100\n",
            "35/35 [==============================] - ETA: 0s - loss: 0.3071 - acc: 0.8886\n",
            "Epoch 1: val_acc improved from 0.89500 to 0.92000, saving model to /content/drive/My Drive/Colab Notebooks/uas/model.h5\n",
            "35/35 [==============================] - 136s 4s/step - loss: 0.3071 - acc: 0.8886 - val_loss: 0.2651 - val_acc: 0.9200\n",
            "Epoch 2/100\n",
            "35/35 [==============================] - ETA: 0s - loss: 0.3298 - acc: 0.8743\n",
            "Epoch 2: val_acc did not improve from 0.92000\n",
            "35/35 [==============================] - 126s 4s/step - loss: 0.3298 - acc: 0.8743 - val_loss: 0.2764 - val_acc: 0.9150\n",
            "Epoch 3/100\n",
            "35/35 [==============================] - ETA: 0s - loss: 0.3008 - acc: 0.8871\n",
            "Epoch 3: val_acc did not improve from 0.92000\n",
            "35/35 [==============================] - 122s 3s/step - loss: 0.3008 - acc: 0.8871 - val_loss: 0.3509 - val_acc: 0.8750\n",
            "Epoch 4/100\n",
            "35/35 [==============================] - ETA: 0s - loss: 0.2819 - acc: 0.8914\n",
            "Epoch 4: val_acc did not improve from 0.92000\n",
            "35/35 [==============================] - 125s 4s/step - loss: 0.2819 - acc: 0.8914 - val_loss: 0.2736 - val_acc: 0.9000\n",
            "Epoch 5/100\n",
            "35/35 [==============================] - ETA: 0s - loss: 0.3008 - acc: 0.8857\n",
            "Epoch 5: val_acc did not improve from 0.92000\n",
            "35/35 [==============================] - 121s 3s/step - loss: 0.3008 - acc: 0.8857 - val_loss: 0.2680 - val_acc: 0.9100\n",
            "Epoch 6/100\n",
            "35/35 [==============================] - ETA: 0s - loss: 0.2714 - acc: 0.9029\n",
            "Epoch 6: val_acc did not improve from 0.92000\n",
            "35/35 [==============================] - 125s 4s/step - loss: 0.2714 - acc: 0.9029 - val_loss: 0.3692 - val_acc: 0.8550\n",
            "Epoch 7/100\n",
            "35/35 [==============================] - ETA: 0s - loss: 0.2968 - acc: 0.8843\n",
            "Epoch 7: val_acc did not improve from 0.92000\n",
            "35/35 [==============================] - 122s 3s/step - loss: 0.2968 - acc: 0.8843 - val_loss: 0.2713 - val_acc: 0.9000\n",
            "Epoch 8/100\n",
            "35/35 [==============================] - ETA: 0s - loss: 0.2786 - acc: 0.9014\n",
            "Epoch 8: val_acc did not improve from 0.92000\n",
            "35/35 [==============================] - 125s 4s/step - loss: 0.2786 - acc: 0.9014 - val_loss: 0.2956 - val_acc: 0.8850\n",
            "Epoch 9/100\n",
            "35/35 [==============================] - ETA: 0s - loss: 0.2675 - acc: 0.8929\n",
            "Epoch 9: val_acc did not improve from 0.92000\n",
            "35/35 [==============================] - 120s 3s/step - loss: 0.2675 - acc: 0.8929 - val_loss: 0.3450 - val_acc: 0.8700\n",
            "Epoch 10/100\n",
            "35/35 [==============================] - ETA: 0s - loss: 0.2776 - acc: 0.8857\n",
            "Epoch 10: val_acc improved from 0.92000 to 0.95500, saving model to /content/drive/My Drive/Colab Notebooks/uas/model.h5\n",
            "35/35 [==============================] - 128s 4s/step - loss: 0.2776 - acc: 0.8857 - val_loss: 0.1794 - val_acc: 0.9550\n",
            "Epoch 11/100\n",
            "35/35 [==============================] - ETA: 0s - loss: 0.2587 - acc: 0.9057\n",
            "Epoch 11: val_acc did not improve from 0.95500\n",
            "35/35 [==============================] - 121s 3s/step - loss: 0.2587 - acc: 0.9057 - val_loss: 0.2050 - val_acc: 0.9250\n",
            "Epoch 12/100\n",
            "35/35 [==============================] - ETA: 0s - loss: 0.2539 - acc: 0.8843\n",
            "Epoch 12: val_acc did not improve from 0.95500\n",
            "35/35 [==============================] - 121s 3s/step - loss: 0.2539 - acc: 0.8843 - val_loss: 0.3035 - val_acc: 0.8800\n",
            "Epoch 13/100\n",
            "35/35 [==============================] - ETA: 0s - loss: 0.3014 - acc: 0.8857\n",
            "Epoch 13: val_acc did not improve from 0.95500\n",
            "35/35 [==============================] - 121s 3s/step - loss: 0.3014 - acc: 0.8857 - val_loss: 0.2679 - val_acc: 0.9000\n",
            "Epoch 14/100\n",
            "35/35 [==============================] - ETA: 0s - loss: 0.2365 - acc: 0.9000\n",
            "Epoch 14: val_acc did not improve from 0.95500\n",
            "35/35 [==============================] - 121s 3s/step - loss: 0.2365 - acc: 0.9000 - val_loss: 0.1818 - val_acc: 0.9250\n",
            "Epoch 15/100\n",
            "35/35 [==============================] - ETA: 0s - loss: 0.2508 - acc: 0.9000\n",
            "Epoch 15: val_acc did not improve from 0.95500\n",
            "35/35 [==============================] - 125s 4s/step - loss: 0.2508 - acc: 0.9000 - val_loss: 0.2291 - val_acc: 0.9000\n",
            "Epoch 16/100\n",
            "35/35 [==============================] - ETA: 0s - loss: 0.2370 - acc: 0.9029\n",
            "Epoch 16: val_acc did not improve from 0.95500\n",
            "35/35 [==============================] - 121s 3s/step - loss: 0.2370 - acc: 0.9029 - val_loss: 0.2103 - val_acc: 0.9050\n",
            "Epoch 17/100\n",
            "35/35 [==============================] - ETA: 0s - loss: 0.2377 - acc: 0.9214\n",
            "Epoch 17: val_acc did not improve from 0.95500\n",
            "35/35 [==============================] - 127s 4s/step - loss: 0.2377 - acc: 0.9214 - val_loss: 0.1865 - val_acc: 0.9250\n",
            "Epoch 18/100\n",
            "35/35 [==============================] - ETA: 0s - loss: 0.2243 - acc: 0.9129\n",
            "Epoch 18: val_acc did not improve from 0.95500\n",
            "35/35 [==============================] - 121s 3s/step - loss: 0.2243 - acc: 0.9129 - val_loss: 0.2153 - val_acc: 0.9250\n",
            "Epoch 19/100\n",
            "35/35 [==============================] - ETA: 0s - loss: 0.2251 - acc: 0.9186\n",
            "Epoch 19: val_acc did not improve from 0.95500\n",
            "35/35 [==============================] - 124s 4s/step - loss: 0.2251 - acc: 0.9186 - val_loss: 0.2661 - val_acc: 0.8950\n",
            "Epoch 20/100\n",
            "35/35 [==============================] - ETA: 0s - loss: 0.2482 - acc: 0.9014\n",
            "Epoch 20: val_acc did not improve from 0.95500\n",
            "35/35 [==============================] - 120s 3s/step - loss: 0.2482 - acc: 0.9014 - val_loss: 0.2572 - val_acc: 0.9000\n",
            "Epoch 21/100\n",
            "35/35 [==============================] - ETA: 0s - loss: 0.2221 - acc: 0.9214\n",
            "Epoch 21: val_acc did not improve from 0.95500\n",
            "35/35 [==============================] - 121s 3s/step - loss: 0.2221 - acc: 0.9214 - val_loss: 0.3319 - val_acc: 0.8750\n",
            "Epoch 22/100\n",
            "35/35 [==============================] - ETA: 0s - loss: 0.2146 - acc: 0.9200\n",
            "Epoch 22: val_acc did not improve from 0.95500\n",
            "35/35 [==============================] - 124s 4s/step - loss: 0.2146 - acc: 0.9200 - val_loss: 0.1872 - val_acc: 0.9250\n",
            "Epoch 23/100\n",
            "35/35 [==============================] - ETA: 0s - loss: 0.2146 - acc: 0.9214\n",
            "Epoch 23: val_acc did not improve from 0.95500\n",
            "35/35 [==============================] - 121s 3s/step - loss: 0.2146 - acc: 0.9214 - val_loss: 0.2026 - val_acc: 0.9300\n",
            "Epoch 24/100\n",
            "35/35 [==============================] - ETA: 0s - loss: 0.2336 - acc: 0.9043\n",
            "Epoch 24: val_acc did not improve from 0.95500\n",
            "35/35 [==============================] - 124s 4s/step - loss: 0.2336 - acc: 0.9043 - val_loss: 0.1937 - val_acc: 0.9250\n",
            "Epoch 25/100\n",
            "35/35 [==============================] - ETA: 0s - loss: 0.1782 - acc: 0.9271\n",
            "Epoch 25: val_acc did not improve from 0.95500\n",
            "35/35 [==============================] - 122s 3s/step - loss: 0.1782 - acc: 0.9271 - val_loss: 0.1799 - val_acc: 0.9250\n",
            "Epoch 26/100\n",
            "35/35 [==============================] - ETA: 0s - loss: 0.2200 - acc: 0.9171\n",
            "Epoch 26: val_acc did not improve from 0.95500\n",
            "35/35 [==============================] - 126s 4s/step - loss: 0.2200 - acc: 0.9171 - val_loss: 0.2832 - val_acc: 0.8800\n",
            "Epoch 27/100\n",
            "35/35 [==============================] - ETA: 0s - loss: 0.2189 - acc: 0.9186\n",
            "Epoch 27: val_acc did not improve from 0.95500\n",
            "35/35 [==============================] - 122s 3s/step - loss: 0.2189 - acc: 0.9186 - val_loss: 0.1826 - val_acc: 0.9400\n",
            "Epoch 28/100\n",
            "35/35 [==============================] - ETA: 0s - loss: 0.1854 - acc: 0.9314\n",
            "Epoch 28: val_acc did not improve from 0.95500\n",
            "35/35 [==============================] - 122s 3s/step - loss: 0.1854 - acc: 0.9314 - val_loss: 0.2121 - val_acc: 0.9100\n",
            "Epoch 29/100\n",
            "35/35 [==============================] - ETA: 0s - loss: 0.2109 - acc: 0.9186\n",
            "Epoch 29: val_acc did not improve from 0.95500\n",
            "35/35 [==============================] - 126s 4s/step - loss: 0.2109 - acc: 0.9186 - val_loss: 0.2148 - val_acc: 0.9100\n",
            "Epoch 30/100\n",
            "35/35 [==============================] - ETA: 0s - loss: 0.1924 - acc: 0.9243\n",
            "Epoch 30: val_acc did not improve from 0.95500\n",
            "35/35 [==============================] - 120s 3s/step - loss: 0.1924 - acc: 0.9243 - val_loss: 0.1114 - val_acc: 0.9550\n",
            "Epoch 31/100\n",
            "35/35 [==============================] - ETA: 0s - loss: 0.1909 - acc: 0.9286\n",
            "Epoch 31: val_acc did not improve from 0.95500\n",
            "35/35 [==============================] - 122s 3s/step - loss: 0.1909 - acc: 0.9286 - val_loss: 0.1544 - val_acc: 0.9350\n",
            "Epoch 32/100\n",
            "35/35 [==============================] - ETA: 0s - loss: 0.1936 - acc: 0.9200\n",
            "Epoch 32: val_acc improved from 0.95500 to 0.96000, saving model to /content/drive/My Drive/Colab Notebooks/uas/model.h5\n",
            "35/35 [==============================] - 121s 3s/step - loss: 0.1936 - acc: 0.9200 - val_loss: 0.1315 - val_acc: 0.9600\n",
            "Epoch 33/100\n",
            "35/35 [==============================] - ETA: 0s - loss: 0.1782 - acc: 0.9343\n",
            "Epoch 33: val_acc did not improve from 0.96000\n",
            "35/35 [==============================] - 121s 3s/step - loss: 0.1782 - acc: 0.9343 - val_loss: 0.1670 - val_acc: 0.9200\n",
            "Epoch 34/100\n",
            "35/35 [==============================] - ETA: 0s - loss: 0.1645 - acc: 0.9400\n",
            "Epoch 34: val_acc did not improve from 0.96000\n",
            "35/35 [==============================] - 124s 4s/step - loss: 0.1645 - acc: 0.9400 - val_loss: 0.1322 - val_acc: 0.9500\n",
            "Epoch 35/100\n",
            "35/35 [==============================] - ETA: 0s - loss: 0.1646 - acc: 0.9357\n",
            "Epoch 35: val_acc did not improve from 0.96000\n",
            "35/35 [==============================] - 120s 3s/step - loss: 0.1646 - acc: 0.9357 - val_loss: 0.1440 - val_acc: 0.9500\n",
            "Epoch 36/100\n",
            "35/35 [==============================] - ETA: 0s - loss: 0.1516 - acc: 0.9400\n",
            "Epoch 36: val_acc did not improve from 0.96000\n",
            "35/35 [==============================] - 124s 4s/step - loss: 0.1516 - acc: 0.9400 - val_loss: 0.1521 - val_acc: 0.9500\n",
            "Epoch 37/100\n",
            "35/35 [==============================] - ETA: 0s - loss: 0.1679 - acc: 0.9329\n",
            "Epoch 37: val_acc improved from 0.96000 to 0.97000, saving model to /content/drive/My Drive/Colab Notebooks/uas/model.h5\n",
            "35/35 [==============================] - 121s 3s/step - loss: 0.1679 - acc: 0.9329 - val_loss: 0.0945 - val_acc: 0.9700\n",
            "Epoch 38/100\n",
            "35/35 [==============================] - ETA: 0s - loss: 0.1473 - acc: 0.9429\n",
            "Epoch 38: val_acc did not improve from 0.97000\n",
            "35/35 [==============================] - 121s 3s/step - loss: 0.1473 - acc: 0.9429 - val_loss: 0.2451 - val_acc: 0.9100\n",
            "Epoch 39/100\n",
            "35/35 [==============================] - ETA: 0s - loss: 0.1748 - acc: 0.9329\n",
            "Epoch 39: val_acc did not improve from 0.97000\n",
            "35/35 [==============================] - 124s 4s/step - loss: 0.1748 - acc: 0.9329 - val_loss: 0.1796 - val_acc: 0.9300\n",
            "Epoch 40/100\n",
            "35/35 [==============================] - ETA: 0s - loss: 0.1761 - acc: 0.9314\n",
            "Epoch 40: val_acc did not improve from 0.97000\n",
            "35/35 [==============================] - 121s 3s/step - loss: 0.1761 - acc: 0.9314 - val_loss: 0.1611 - val_acc: 0.9250\n",
            "Epoch 41/100\n",
            "35/35 [==============================] - ETA: 0s - loss: 0.1553 - acc: 0.9357\n",
            "Epoch 41: val_acc did not improve from 0.97000\n",
            "35/35 [==============================] - 125s 4s/step - loss: 0.1553 - acc: 0.9357 - val_loss: 0.2661 - val_acc: 0.9000\n",
            "Epoch 42/100\n",
            "35/35 [==============================] - ETA: 0s - loss: 0.2223 - acc: 0.9129\n",
            "Epoch 42: val_acc did not improve from 0.97000\n",
            "35/35 [==============================] - 121s 3s/step - loss: 0.2223 - acc: 0.9129 - val_loss: 0.1877 - val_acc: 0.9000\n",
            "Epoch 43/100\n",
            "35/35 [==============================] - ETA: 0s - loss: 0.1825 - acc: 0.9343\n",
            "Epoch 43: val_acc did not improve from 0.97000\n",
            "35/35 [==============================] - 121s 3s/step - loss: 0.1825 - acc: 0.9343 - val_loss: 0.1305 - val_acc: 0.9550\n",
            "Epoch 44/100\n",
            "35/35 [==============================] - ETA: 0s - loss: 0.1491 - acc: 0.9400\n",
            "Epoch 44: val_acc did not improve from 0.97000\n",
            "35/35 [==============================] - 123s 4s/step - loss: 0.1491 - acc: 0.9400 - val_loss: 0.1554 - val_acc: 0.9300\n",
            "Epoch 45/100\n",
            "35/35 [==============================] - ETA: 0s - loss: 0.1424 - acc: 0.9486\n",
            "Epoch 45: val_acc did not improve from 0.97000\n",
            "35/35 [==============================] - 122s 3s/step - loss: 0.1424 - acc: 0.9486 - val_loss: 0.1540 - val_acc: 0.9250\n",
            "Epoch 46/100\n",
            "35/35 [==============================] - ETA: 0s - loss: 0.1607 - acc: 0.9314\n",
            "Epoch 46: val_acc did not improve from 0.97000\n",
            "35/35 [==============================] - 125s 4s/step - loss: 0.1607 - acc: 0.9314 - val_loss: 0.0991 - val_acc: 0.9600\n",
            "Epoch 47/100\n",
            "35/35 [==============================] - ETA: 0s - loss: 0.1484 - acc: 0.9357\n",
            "Epoch 47: val_acc did not improve from 0.97000\n",
            "35/35 [==============================] - 122s 3s/step - loss: 0.1484 - acc: 0.9357 - val_loss: 0.1141 - val_acc: 0.9550\n",
            "Epoch 48/100\n",
            "35/35 [==============================] - ETA: 0s - loss: 0.1500 - acc: 0.9343\n",
            "Epoch 48: val_acc improved from 0.97000 to 0.97500, saving model to /content/drive/My Drive/Colab Notebooks/uas/model.h5\n",
            "35/35 [==============================] - 125s 4s/step - loss: 0.1500 - acc: 0.9343 - val_loss: 0.0778 - val_acc: 0.9750\n",
            "Epoch 49/100\n",
            "35/35 [==============================] - ETA: 0s - loss: 0.1286 - acc: 0.9486\n",
            "Epoch 49: val_acc did not improve from 0.97500\n",
            "35/35 [==============================] - 122s 3s/step - loss: 0.1286 - acc: 0.9486 - val_loss: 0.1339 - val_acc: 0.9500\n",
            "Epoch 50/100\n",
            "35/35 [==============================] - ETA: 0s - loss: 0.1534 - acc: 0.9386\n",
            "Epoch 50: val_acc did not improve from 0.97500\n",
            "35/35 [==============================] - 120s 3s/step - loss: 0.1534 - acc: 0.9386 - val_loss: 0.1287 - val_acc: 0.9350\n",
            "Epoch 51/100\n",
            "35/35 [==============================] - ETA: 0s - loss: 0.1371 - acc: 0.9457\n",
            "Epoch 51: val_acc did not improve from 0.97500\n",
            "35/35 [==============================] - 124s 4s/step - loss: 0.1371 - acc: 0.9457 - val_loss: 0.1288 - val_acc: 0.9250\n",
            "Epoch 52/100\n",
            "35/35 [==============================] - ETA: 0s - loss: 0.1233 - acc: 0.9514\n",
            "Epoch 52: val_acc did not improve from 0.97500\n",
            "35/35 [==============================] - 122s 3s/step - loss: 0.1233 - acc: 0.9514 - val_loss: 0.1679 - val_acc: 0.9250\n",
            "Epoch 53/100\n",
            "35/35 [==============================] - ETA: 0s - loss: 0.1315 - acc: 0.9357\n",
            "Epoch 53: val_acc improved from 0.97500 to 0.98500, saving model to /content/drive/My Drive/Colab Notebooks/uas/model.h5\n",
            "35/35 [==============================] - 125s 4s/step - loss: 0.1315 - acc: 0.9357 - val_loss: 0.0603 - val_acc: 0.9850\n",
            "Epoch 54/100\n",
            "35/35 [==============================] - ETA: 0s - loss: 0.1636 - acc: 0.9314\n",
            "Epoch 54: val_acc did not improve from 0.98500\n",
            "35/35 [==============================] - 122s 3s/step - loss: 0.1636 - acc: 0.9314 - val_loss: 0.1674 - val_acc: 0.9400\n",
            "Epoch 55/100\n",
            "35/35 [==============================] - ETA: 0s - loss: 0.1623 - acc: 0.9357\n",
            "Epoch 55: val_acc did not improve from 0.98500\n",
            "35/35 [==============================] - 124s 4s/step - loss: 0.1623 - acc: 0.9357 - val_loss: 0.1652 - val_acc: 0.9200\n",
            "Epoch 56/100\n",
            "35/35 [==============================] - ETA: 0s - loss: 0.1470 - acc: 0.9343\n",
            "Epoch 56: val_acc did not improve from 0.98500\n",
            "35/35 [==============================] - 120s 3s/step - loss: 0.1470 - acc: 0.9343 - val_loss: 0.0860 - val_acc: 0.9650\n",
            "Epoch 57/100\n",
            "35/35 [==============================] - ETA: 0s - loss: 0.1392 - acc: 0.9486\n",
            "Epoch 57: val_acc did not improve from 0.98500\n",
            "35/35 [==============================] - 120s 3s/step - loss: 0.1392 - acc: 0.9486 - val_loss: 0.1120 - val_acc: 0.9500\n",
            "Epoch 58/100\n",
            "35/35 [==============================] - ETA: 0s - loss: 0.1301 - acc: 0.9500\n",
            "Epoch 58: val_acc did not improve from 0.98500\n",
            "35/35 [==============================] - 125s 4s/step - loss: 0.1301 - acc: 0.9500 - val_loss: 0.1056 - val_acc: 0.9500\n",
            "Epoch 59/100\n",
            "35/35 [==============================] - ETA: 0s - loss: 0.1286 - acc: 0.9500\n",
            "Epoch 59: val_acc did not improve from 0.98500\n",
            "35/35 [==============================] - 122s 3s/step - loss: 0.1286 - acc: 0.9500 - val_loss: 0.2425 - val_acc: 0.9000\n",
            "Epoch 60/100\n",
            "35/35 [==============================] - ETA: 0s - loss: 0.1327 - acc: 0.9400\n",
            "Epoch 60: val_acc did not improve from 0.98500\n",
            "35/35 [==============================] - 121s 3s/step - loss: 0.1327 - acc: 0.9400 - val_loss: 0.0641 - val_acc: 0.9750\n",
            "Epoch 61/100\n",
            "35/35 [==============================] - ETA: 0s - loss: 0.1210 - acc: 0.9529\n",
            "Epoch 61: val_acc did not improve from 0.98500\n",
            "35/35 [==============================] - 124s 4s/step - loss: 0.1210 - acc: 0.9529 - val_loss: 0.0891 - val_acc: 0.9600\n",
            "Epoch 62/100\n",
            "35/35 [==============================] - ETA: 0s - loss: 0.1165 - acc: 0.9557\n",
            "Epoch 62: val_acc did not improve from 0.98500\n",
            "35/35 [==============================] - 120s 3s/step - loss: 0.1165 - acc: 0.9557 - val_loss: 0.0884 - val_acc: 0.9600\n",
            "Epoch 63/100\n",
            "35/35 [==============================] - ETA: 0s - loss: 0.1095 - acc: 0.9557\n",
            "Epoch 63: val_acc did not improve from 0.98500\n",
            "35/35 [==============================] - 120s 3s/step - loss: 0.1095 - acc: 0.9557 - val_loss: 0.0869 - val_acc: 0.9550\n",
            "Epoch 64/100\n",
            "35/35 [==============================] - ETA: 0s - loss: 0.1311 - acc: 0.9443\n",
            "Epoch 64: val_acc did not improve from 0.98500\n",
            "35/35 [==============================] - 124s 4s/step - loss: 0.1311 - acc: 0.9443 - val_loss: 0.1367 - val_acc: 0.9400\n",
            "Epoch 65/100\n",
            "35/35 [==============================] - ETA: 0s - loss: 0.1337 - acc: 0.9429\n",
            "Epoch 65: val_acc did not improve from 0.98500\n",
            "35/35 [==============================] - 120s 3s/step - loss: 0.1337 - acc: 0.9429 - val_loss: 0.0844 - val_acc: 0.9650\n",
            "Epoch 66/100\n",
            "35/35 [==============================] - ETA: 0s - loss: 0.1212 - acc: 0.9529\n",
            "Epoch 66: val_acc did not improve from 0.98500\n",
            "35/35 [==============================] - 120s 3s/step - loss: 0.1212 - acc: 0.9529 - val_loss: 0.1519 - val_acc: 0.9450\n",
            "Epoch 67/100\n",
            "35/35 [==============================] - ETA: 0s - loss: 0.1196 - acc: 0.9600\n",
            "Epoch 67: val_acc did not improve from 0.98500\n",
            "35/35 [==============================] - 124s 4s/step - loss: 0.1196 - acc: 0.9600 - val_loss: 0.1672 - val_acc: 0.9400\n",
            "Epoch 68/100\n",
            "35/35 [==============================] - ETA: 0s - loss: 0.1108 - acc: 0.9571\n",
            "Epoch 68: val_acc did not improve from 0.98500\n",
            "35/35 [==============================] - 121s 3s/step - loss: 0.1108 - acc: 0.9571 - val_loss: 0.1024 - val_acc: 0.9500\n",
            "Epoch 69/100\n",
            "35/35 [==============================] - ETA: 0s - loss: 0.1031 - acc: 0.9586\n",
            "Epoch 69: val_acc did not improve from 0.98500\n",
            "35/35 [==============================] - 122s 3s/step - loss: 0.1031 - acc: 0.9586 - val_loss: 0.0624 - val_acc: 0.9800\n",
            "Epoch 70/100\n",
            "35/35 [==============================] - ETA: 0s - loss: 0.1038 - acc: 0.9443\n",
            "Epoch 70: val_acc did not improve from 0.98500\n",
            "35/35 [==============================] - 122s 3s/step - loss: 0.1038 - acc: 0.9443 - val_loss: 0.1379 - val_acc: 0.9450\n",
            "Epoch 71/100\n",
            "35/35 [==============================] - ETA: 0s - loss: 0.1123 - acc: 0.9571\n",
            "Epoch 71: val_acc did not improve from 0.98500\n",
            "35/35 [==============================] - 120s 3s/step - loss: 0.1123 - acc: 0.9571 - val_loss: 0.0702 - val_acc: 0.9700\n",
            "Epoch 72/100\n",
            "35/35 [==============================] - ETA: 0s - loss: 0.1041 - acc: 0.9500\n",
            "Epoch 72: val_acc did not improve from 0.98500\n",
            "35/35 [==============================] - 121s 3s/step - loss: 0.1041 - acc: 0.9500 - val_loss: 0.0456 - val_acc: 0.9850\n",
            "Epoch 73/100\n",
            "35/35 [==============================] - ETA: 0s - loss: 0.0986 - acc: 0.9629\n",
            "Epoch 73: val_acc did not improve from 0.98500\n",
            "35/35 [==============================] - 121s 3s/step - loss: 0.0986 - acc: 0.9629 - val_loss: 0.1793 - val_acc: 0.9100\n",
            "Epoch 74/100\n",
            "35/35 [==============================] - ETA: 0s - loss: 0.1265 - acc: 0.9529\n",
            "Epoch 74: val_acc did not improve from 0.98500\n",
            "35/35 [==============================] - 122s 3s/step - loss: 0.1265 - acc: 0.9529 - val_loss: 0.1829 - val_acc: 0.9350\n",
            "Epoch 75/100\n",
            "35/35 [==============================] - ETA: 0s - loss: 0.1010 - acc: 0.9529\n",
            "Epoch 75: val_acc did not improve from 0.98500\n",
            "35/35 [==============================] - 122s 3s/step - loss: 0.1010 - acc: 0.9529 - val_loss: 0.0644 - val_acc: 0.9850\n",
            "Epoch 76/100\n",
            "35/35 [==============================] - ETA: 0s - loss: 0.1146 - acc: 0.9571\n",
            "Epoch 76: val_acc did not improve from 0.98500\n",
            "35/35 [==============================] - 120s 3s/step - loss: 0.1146 - acc: 0.9571 - val_loss: 0.1454 - val_acc: 0.9400\n",
            "Epoch 77/100\n",
            "35/35 [==============================] - ETA: 0s - loss: 0.1019 - acc: 0.9571\n",
            "Epoch 77: val_acc did not improve from 0.98500\n",
            "35/35 [==============================] - 125s 4s/step - loss: 0.1019 - acc: 0.9571 - val_loss: 0.0807 - val_acc: 0.9700\n",
            "Epoch 78/100\n",
            "35/35 [==============================] - ETA: 0s - loss: 0.1223 - acc: 0.9543\n",
            "Epoch 78: val_acc did not improve from 0.98500\n",
            "35/35 [==============================] - 122s 3s/step - loss: 0.1223 - acc: 0.9543 - val_loss: 0.0908 - val_acc: 0.9750\n",
            "Epoch 79/100\n",
            "35/35 [==============================] - ETA: 0s - loss: 0.1207 - acc: 0.9557\n",
            "Epoch 79: val_acc did not improve from 0.98500\n",
            "35/35 [==============================] - 120s 3s/step - loss: 0.1207 - acc: 0.9557 - val_loss: 0.0845 - val_acc: 0.9700\n",
            "Epoch 80/100\n",
            "35/35 [==============================] - ETA: 0s - loss: 0.1193 - acc: 0.9529\n",
            "Epoch 80: val_acc did not improve from 0.98500\n",
            "35/35 [==============================] - 124s 4s/step - loss: 0.1193 - acc: 0.9529 - val_loss: 0.0772 - val_acc: 0.9700\n",
            "Epoch 81/100\n",
            "35/35 [==============================] - ETA: 0s - loss: 0.0976 - acc: 0.9600\n",
            "Epoch 81: val_acc did not improve from 0.98500\n",
            "35/35 [==============================] - 120s 3s/step - loss: 0.0976 - acc: 0.9600 - val_loss: 0.1056 - val_acc: 0.9650\n",
            "Epoch 82/100\n",
            "35/35 [==============================] - ETA: 0s - loss: 0.1061 - acc: 0.9571\n",
            "Epoch 82: val_acc did not improve from 0.98500\n",
            "35/35 [==============================] - 121s 3s/step - loss: 0.1061 - acc: 0.9571 - val_loss: 0.0975 - val_acc: 0.9700\n",
            "Epoch 83/100\n",
            "35/35 [==============================] - ETA: 0s - loss: 0.0804 - acc: 0.9714\n",
            "Epoch 83: val_acc did not improve from 0.98500\n",
            "35/35 [==============================] - 124s 4s/step - loss: 0.0804 - acc: 0.9714 - val_loss: 0.1265 - val_acc: 0.9400\n",
            "Epoch 84/100\n",
            "35/35 [==============================] - ETA: 0s - loss: 0.1021 - acc: 0.9614\n",
            "Epoch 84: val_acc did not improve from 0.98500\n",
            "35/35 [==============================] - 120s 3s/step - loss: 0.1021 - acc: 0.9614 - val_loss: 0.0786 - val_acc: 0.9750\n",
            "Epoch 85/100\n",
            "35/35 [==============================] - ETA: 0s - loss: 0.1022 - acc: 0.9571\n",
            "Epoch 85: val_acc did not improve from 0.98500\n",
            "35/35 [==============================] - 120s 3s/step - loss: 0.1022 - acc: 0.9571 - val_loss: 0.0572 - val_acc: 0.9750\n",
            "Epoch 86/100\n",
            "35/35 [==============================] - ETA: 0s - loss: 0.1262 - acc: 0.9514\n",
            "Epoch 86: val_acc did not improve from 0.98500\n",
            "35/35 [==============================] - 123s 4s/step - loss: 0.1262 - acc: 0.9514 - val_loss: 0.0717 - val_acc: 0.9800\n",
            "Epoch 87/100\n",
            "35/35 [==============================] - ETA: 0s - loss: 0.1065 - acc: 0.9614\n",
            "Epoch 87: val_acc did not improve from 0.98500\n",
            "35/35 [==============================] - 121s 3s/step - loss: 0.1065 - acc: 0.9614 - val_loss: 0.0825 - val_acc: 0.9650\n",
            "Epoch 88/100\n",
            "35/35 [==============================] - ETA: 0s - loss: 0.0890 - acc: 0.9657\n",
            "Epoch 88: val_acc did not improve from 0.98500\n",
            "35/35 [==============================] - 120s 3s/step - loss: 0.0890 - acc: 0.9657 - val_loss: 0.0515 - val_acc: 0.9850\n",
            "Epoch 89/100\n",
            "35/35 [==============================] - ETA: 0s - loss: 0.1043 - acc: 0.9586\n",
            "Epoch 89: val_acc did not improve from 0.98500\n",
            "35/35 [==============================] - 120s 3s/step - loss: 0.1043 - acc: 0.9586 - val_loss: 0.1685 - val_acc: 0.9300\n",
            "Epoch 90/100\n",
            "35/35 [==============================] - ETA: 0s - loss: 0.0967 - acc: 0.9629\n",
            "Epoch 90: val_acc did not improve from 0.98500\n",
            "35/35 [==============================] - 124s 4s/step - loss: 0.0967 - acc: 0.9629 - val_loss: 0.0858 - val_acc: 0.9650\n",
            "Epoch 91/100\n",
            "35/35 [==============================] - ETA: 0s - loss: 0.0916 - acc: 0.9657\n",
            "Epoch 91: val_acc did not improve from 0.98500\n",
            "35/35 [==============================] - 120s 3s/step - loss: 0.0916 - acc: 0.9657 - val_loss: 0.0504 - val_acc: 0.9850\n",
            "Epoch 92/100\n",
            "35/35 [==============================] - ETA: 0s - loss: 0.0859 - acc: 0.9643\n",
            "Epoch 92: val_acc did not improve from 0.98500\n",
            "35/35 [==============================] - 120s 3s/step - loss: 0.0859 - acc: 0.9643 - val_loss: 0.0713 - val_acc: 0.9750\n",
            "Epoch 93/100\n",
            "35/35 [==============================] - ETA: 0s - loss: 0.0903 - acc: 0.9629\n",
            "Epoch 93: val_acc did not improve from 0.98500\n",
            "35/35 [==============================] - 124s 4s/step - loss: 0.0903 - acc: 0.9629 - val_loss: 0.0796 - val_acc: 0.9650\n",
            "Epoch 94/100\n",
            "35/35 [==============================] - ETA: 0s - loss: 0.0791 - acc: 0.9671\n",
            "Epoch 94: val_acc did not improve from 0.98500\n",
            "35/35 [==============================] - 120s 3s/step - loss: 0.0791 - acc: 0.9671 - val_loss: 0.0716 - val_acc: 0.9700\n",
            "Epoch 95/100\n",
            "35/35 [==============================] - ETA: 0s - loss: 0.0868 - acc: 0.9657\n",
            "Epoch 95: val_acc did not improve from 0.98500\n",
            "35/35 [==============================] - 120s 3s/step - loss: 0.0868 - acc: 0.9657 - val_loss: 0.0604 - val_acc: 0.9850\n",
            "Epoch 96/100\n",
            "35/35 [==============================] - ETA: 0s - loss: 0.1127 - acc: 0.9514\n",
            "Epoch 96: val_acc did not improve from 0.98500\n",
            "35/35 [==============================] - 124s 4s/step - loss: 0.1127 - acc: 0.9514 - val_loss: 0.1120 - val_acc: 0.9550\n",
            "Epoch 97/100\n",
            "35/35 [==============================] - ETA: 0s - loss: 0.1156 - acc: 0.9571\n",
            "Epoch 97: val_acc did not improve from 0.98500\n",
            "35/35 [==============================] - 120s 3s/step - loss: 0.1156 - acc: 0.9571 - val_loss: 0.1335 - val_acc: 0.9350\n",
            "Epoch 98/100\n",
            "35/35 [==============================] - ETA: 0s - loss: 0.0988 - acc: 0.9600\n",
            "Epoch 98: val_acc did not improve from 0.98500\n",
            "35/35 [==============================] - 120s 3s/step - loss: 0.0988 - acc: 0.9600 - val_loss: 0.0412 - val_acc: 0.9850\n",
            "Epoch 99/100\n",
            "35/35 [==============================] - ETA: 0s - loss: 0.0887 - acc: 0.9614\n",
            "Epoch 99: val_acc did not improve from 0.98500\n",
            "35/35 [==============================] - 124s 4s/step - loss: 0.0887 - acc: 0.9614 - val_loss: 0.0642 - val_acc: 0.9650\n",
            "Epoch 100/100\n",
            "35/35 [==============================] - ETA: 0s - loss: 0.0986 - acc: 0.9614\n",
            "Epoch 100: val_acc did not improve from 0.98500\n",
            "35/35 [==============================] - 122s 3s/step - loss: 0.0986 - acc: 0.9614 - val_loss: 0.1471 - val_acc: 0.9500\n"
          ]
        }
      ],
      "source": [
        "history = model.fit(\n",
        "      train_generator,\n",
        "      steps_per_epoch=35,  \n",
        "      epochs=100,\n",
        "      validation_data=validation_generator,\n",
        "      validation_steps=10,  \n",
        "      \n",
        "      callbacks = [callbacks, best_model])"
      ]
    },
    {
      "cell_type": "code",
      "source": [
        "import matplotlib.pyplot as plt\n",
        "acc = history.history['acc']\n",
        "val_acc = history.history['val_acc']\n",
        "loss = history.history['loss']\n",
        "val_loss = history.history['val_loss']\n",
        "\n",
        "epochs = range(len(acc))\n",
        "\n",
        "plt.plot(epochs, acc, 'bo', label='Training accuracy')\n",
        "plt.plot(epochs, val_acc, 'b', label='Validation accuracy')\n",
        "plt.title('Training and validation accuracy')\n",
        "\n",
        "plt.figure()\n",
        "\n",
        "plt.plot(epochs, loss, 'bo', label='Training Loss')\n",
        "plt.plot(epochs, val_loss, 'b', label='Validation Loss')\n",
        "plt.title('Training and validation loss')\n",
        "plt.legend()\n",
        "\n",
        "plt.show()"
      ],
      "metadata": {
        "colab": {
          "base_uri": "https://localhost:8080/",
          "height": 545
        },
        "id": "VU5WHoDpBu5U",
        "outputId": "686cf439-b4f7-4538-b594-cdbd696ee529"
      },
      "execution_count": null,
      "outputs": [
        {
          "output_type": "display_data",
          "data": {
            "text/plain": [
              "<Figure size 432x288 with 1 Axes>"
            ],
            "image/png": "[encoded data removed]"
          },
          "metadata": {
            "needs_background": "light"
          }
        },
        {
          "output_type": "display_data",
          "data": {
            "text/plain": [
              "<Figure size 432x288 with 1 Axes>"
            ],
            "image/png": "[encoded data removed]"
          },
          "metadata": {
            "needs_background": "light"
          }
        }
      ]
    },
    {
      "cell_type": "code",
      "source": [
        "import numpy as np \n",
        "from keras.preprocessing.image import ImageDataGenerator\n",
        "import matplotlib.pyplot as plt\n",
        "from sklearn.metrics import f1_score, recall_score, accuracy_score\n",
        "from sklearn.metrics import precision_score, confusion_matrix, classification_report\n",
        "from sklearn import metrics\n",
        "\n",
        "import seaborn as sns\n",
        "sns.set(style='whitegrid')"
      ],
      "metadata": {
        "id": "FuI3cnYHW9Hz"
      },
      "execution_count": null,
      "outputs": []
    },
    {
      "cell_type": "code",
      "source": [
        "def my_metrics(y_true, y_pred):\n",
        "    accuracy=accuracy_score(y_true, y_pred)\n",
        "    precision=precision_score(y_true, y_pred,average='weighted')\n",
        "    f1Score=f1_score(y_true, y_pred, average='weighted') \n",
        "    print(\"Accuracy  : {}\".format(accuracy))\n",
        "    print(\"Precision : {}\".format(precision))\n",
        "    print(\"f1Score : {}\".format(f1Score))\n",
        "    cm=confusion_matrix(y_true, y_pred)\n",
        "    print(cm)\n",
        "    return accuracy, precision, f1Score\n",
        "\n",
        "height=50; width=50\n",
        "batch_size=20\n",
        "\n",
        "test_datagen = ImageDataGenerator(rescale=1./255)\n",
        "\n",
        "TESTING_DIR = '/content/drive/My Drive/Colab Notebooks/uas/test'\n",
        "\n",
        "test_generator = test_datagen.flow_from_directory(TESTING_DIR,\n",
        "                                                  batch_size=batch_size,                                                             \n",
        "                                                  target_size=(height, width),\n",
        "                                                  class_mode= None,\n",
        "                                                  shuffle=False\n",
        "                                                  )\n",
        "\n",
        "predictions = model.predict_generator(generator=test_generator)\n",
        "yPredictions = predictions > 0.5\n",
        "true_classes = test_generator.classes\n",
        "class_names = test_generator.class_indices\n",
        "Cmatrix_test = confusion_matrix(true_classes, yPredictions)\n",
        "\n",
        "testAcc,testPrec, testFScore = my_metrics(true_classes, yPredictions)\n",
        "\n",
        "plt.figure(figsize=(20,20))\n",
        "ax= plt.subplot()\n",
        "data = np.asarray(Cmatrix_test).reshape(2,2)\n",
        "sns.heatmap(data,annot=True, fmt='',ax=ax, cmap=plt.cm.Reds)\n",
        "ax.set_xlabel('Predicted labels')\n",
        "ax.set_ylabel('True labels') \n",
        "ax.set_title('Confusion Matrix')\n",
        "ax.xaxis.set_ticklabels(class_names)   \n",
        "ax.yaxis.set_ticklabels(class_names)\n",
        "plt.title('Confusion Matrix Test',fontsize=14)\n",
        "plt.show()"
      ],
      "metadata": {
        "colab": {
          "base_uri": "https://localhost:8080/",
          "height": 1000
        },
        "id": "NVJzJpLiXKJ6",
        "outputId": "23ed3eb9-c92a-46a9-9774-b2d8100d5d49"
      },
      "execution_count": null,
      "outputs": [
        {
          "output_type": "stream",
          "name": "stdout",
          "text": [
            "Found 705 images belonging to 2 classes.\n"
          ]
        },
        {
          "output_type": "stream",
          "name": "stderr",
          "text": [
            "<ipython-input-22-e088a4c65cfc>:26: UserWarning: `Model.predict_generator` is deprecated and will be removed in a future version. Please use `Model.predict`, which supports generators.\n",
            "  predictions = model.predict_generator(generator=test_generator)\n"
          ]
        },
        {
          "output_type": "stream",
          "name": "stdout",
          "text": [
            "Accuracy  : 0.6595744680851063\n",
            "Precision : 0.6597714736012609\n",
            "f1Score : 0.6595402200436664\n",
            "[[230 125]\n",
            " [115 235]]\n"
          ]
        },
        {
          "output_type": "display_data",
          "data": {
            "text/plain": [
              "<Figure size 1440x1440 with 2 Axes>"
            ],
            "image/png": "[encoded data removed]"
          },
          "metadata": {}
        }
      ]
    },
    {
      "cell_type": "code",
      "source": [
        "from sklearn.metrics import classification_report\n",
        "print(classification_report(true_classes, yPredictions, target_names=class_names))"
      ],
      "metadata": {
        "colab": {
          "base_uri": "https://localhost:8080/"
        },
        "id": "FyEUCKElXXHy",
        "outputId": "69c6f009-73d7-43d3-859a-5059f7bcfce3"
      },
      "execution_count": null,
      "outputs": [
        {
          "output_type": "stream",
          "name": "stdout",
          "text": [
            "                 precision    recall  f1-score   support\n",
            "\n",
            "Belimbing Wuluh       0.67      0.65      0.66       355\n",
            "    Jeruk Nipis       0.65      0.67      0.66       350\n",
            "\n",
            "       accuracy                           0.66       705\n",
            "      macro avg       0.66      0.66      0.66       705\n",
            "   weighted avg       0.66      0.66      0.66       705\n",
            "\n"
          ]
        }
      ]
    },
    {
      "cell_type": "code",
      "source": [
        "from google.colab import drive\n",
        "drive.mount('/content/gdrive')"
      ],
      "metadata": {
        "colab": {
          "base_uri": "https://localhost:8080/"
        },
        "id": "jKau42qTXpAa",
        "outputId": "8f4b46f8-8671-4ca3-d867-f2a11dac12ba"
      },
      "execution_count": null,
      "outputs": [
        {
          "output_type": "stream",
          "name": "stdout",
          "text": [
            "Mounted at /content/gdrive\n"
          ]
        }
      ]
    },
    {
      "cell_type": "code",
      "source": [
        "import numpy as np\n",
        "from keras.models import load_model\n",
        "model_path = '/content/gdrive/My Drive/Colab Notebooks/uas/model.h5'\n",
        "model = load_model(model_path)\n",
        "\n",
        "from google.colab import files\n",
        "from keras.preprocessing import image\n",
        "from tensorflow.keras.utils import load_img, img_to_array\n",
        "\n",
        "uploaded=files.upload()\n",
        "\n",
        "for fn in uploaded.keys():\n",
        " \n",
        "  \n",
        "  path= fn\n",
        "  img=load_img(path, target_size=(150,150))\n",
        "  \n",
        "  x=img_to_array(img)\n",
        "  x=np.expand_dims(x, axis=0)\n",
        "  images = np.vstack([x])\n",
        "  \n",
        "  classes = model.predict(images, batch_size=20)\n",
        "  \n",
        "  print(classes[0])\n",
        "  \n",
        "  if classes[0]>0:\n",
        "    print(fn + \" is a jeruk\")\n",
        "    \n",
        "  else:\n",
        "    print(fn + \" is a belimbing\")"
      ],
      "metadata": {
        "colab": {
          "base_uri": "https://localhost:8080/",
          "height": 473
        },
        "id": "0gGfmm57ZDV6",
        "outputId": "3fdcdf69-60e5-4a20-f829-e43a5d565fc5"
      },
      "execution_count": null,
      "outputs": [
        {
          "output_type": "display_data",
          "data": {
            "text/plain": [
              "<IPython.core.display.HTML object>"
            ],
            "text/html": [
              "\n",
              "     <input type=\"file\" id=\"files-9fd8953a-d09b-46c1-ac08-8554441d2a5b\" name=\"files[]\" multiple disabled\n",
              "        style=\"border:none\" />\n",
              "     <output id=\"result-9fd8953a-d09b-46c1-ac08-8554441d2a5b\">\n",
              "      Upload widget is only available when the cell has been executed in the\n",
              "      current browser session. Please rerun this cell to enable.\n",
              "      </output>\n",
              "      <script>// Copyright 2017 Google LLC\n",
              "//\n",
              "// Licensed under the Apache License, Version 2.0 (the \"License\");\n",
              "// you may not use this file except in compliance with the License.\n",
              "// You may obtain a copy of the License at\n",
              "//\n",
              "//      http://www.apache.org/licenses/LICENSE-2.0\n",
              "//\n",
              "// Unless required by applicable law or agreed to in writing, software\n",
              "// distributed under the License is distributed on an \"AS IS\" BASIS,\n",
              "// WITHOUT WARRANTIES OR CONDITIONS OF ANY KIND, either express or implied.\n",
              "// See the License for the specific language governing permissions and\n",
              "// limitations under the License.\n",
              "\n",
              "/**\n",
              " * @fileoverview Helpers for google.colab Python module.\n",
              " */\n",
              "(function(scope) {\n",
              "function span(text, styleAttributes = {}) {\n",
              "  const element = document.createElement('span');\n",
              "  element.textContent = text;\n",
              "  for (const key of Object.keys(styleAttributes)) {\n",
              "    element.style[key] = styleAttributes[key];\n",
              "  }\n",
              "  return element;\n",
              "}\n",
              "\n",
              "// Max number of bytes which will be uploaded at a time.\n",
              "const MAX_PAYLOAD_SIZE = 100 * 1024;\n",
              "\n",
              "function _uploadFiles(inputId, outputId) {\n",
              "  const steps = uploadFilesStep(inputId, outputId);\n",
              "  const outputElement = document.getElementById(outputId);\n",
              "  // Cache steps on the outputElement to make it available for the next call\n",
              "  // to uploadFilesContinue from Python.\n",
              "  outputElement.steps = steps;\n",
              "\n",
              "  return _uploadFilesContinue(outputId);\n",
              "}\n",
              "\n",
              "// This is roughly an async generator (not supported in the browser yet),\n",
              "// where there are multiple asynchronous steps and the Python side is going\n",
              "// to poll for completion of each step.\n",
              "// This uses a Promise to block the python side on completion of each step,\n",
              "// then passes the result of the previous step as the input to the next step.\n",
              "function _uploadFilesContinue(outputId) {\n",
              "  const outputElement = document.getElementById(outputId);\n",
              "  const steps = outputElement.steps;\n",
              "\n",
              "  const next = steps.next(outputElement.lastPromiseValue);\n",
              "  return Promise.resolve(next.value.promise).then((value) => {\n",
              "    // Cache the last promise value to make it available to the next\n",
              "    // step of the generator.\n",
              "    outputElement.lastPromiseValue = value;\n",
              "    return next.value.response;\n",
              "  });\n",
              "}\n",
              "\n",
              "/**\n",
              " * Generator function which is called between each async step of the upload\n",
              " * process.\n",
              " * @param {string} inputId Element ID of the input file picker element.\n",
              " * @param {string} outputId Element ID of the output display.\n",
              " * @return {!Iterable<!Object>} Iterable of next steps.\n",
              " */\n",
              "function* uploadFilesStep(inputId, outputId) {\n",
              "  const inputElement = document.getElementById(inputId);\n",
              "  inputElement.disabled = false;\n",
              "\n",
              "  const outputElement = document.getElementById(outputId);\n",
              "  outputElement.innerHTML = '';\n",
              "\n",
              "  const pickedPromise = new Promise((resolve) => {\n",
              "    inputElement.addEventListener('change', (e) => {\n",
              "      resolve(e.target.files);\n",
              "    });\n",
              "  });\n",
              "\n",
              "  const cancel = document.createElement('button');\n",
              "  inputElement.parentElement.appendChild(cancel);\n",
              "  cancel.textContent = 'Cancel upload';\n",
              "  const cancelPromise = new Promise((resolve) => {\n",
              "    cancel.onclick = () => {\n",
              "      resolve(null);\n",
              "    };\n",
              "  });\n",
              "\n",
              "  // Wait for the user to pick the files.\n",
              "  const files = yield {\n",
              "    promise: Promise.race([pickedPromise, cancelPromise]),\n",
              "    response: {\n",
              "      action: 'starting',\n",
              "    }\n",
              "  };\n",
              "\n",
              "  cancel.remove();\n",
              "\n",
              "  // Disable the input element since further picks are not allowed.\n",
              "  inputElement.disabled = true;\n",
              "\n",
              "  if (!files) {\n",
              "    return {\n",
              "      response: {\n",
              "        action: 'complete',\n",
              "      }\n",
              "    };\n",
              "  }\n",
              "\n",
              "  for (const file of files) {\n",
              "    const li = document.createElement('li');\n",
              "    li.append(span(file.name, {fontWeight: 'bold'}));\n",
              "    li.append(span(\n",
              "        `(${file.type || 'n/a'}) - ${file.size} bytes, ` +\n",
              "        `last modified: ${\n",
              "            file.lastModifiedDate ? file.lastModifiedDate.toLocaleDateString() :\n",
              "                                    'n/a'} - `));\n",
              "    const percent = span('0% done');\n",
              "    li.appendChild(percent);\n",
              "\n",
              "    outputElement.appendChild(li);\n",
              "\n",
              "    const fileDataPromise = new Promise((resolve) => {\n",
              "      const reader = new FileReader();\n",
              "      reader.onload = (e) => {\n",
              "        resolve(e.target.result);\n",
              "      };\n",
              "      reader.readAsArrayBuffer(file);\n",
              "    });\n",
              "    // Wait for the data to be ready.\n",
              "    let fileData = yield {\n",
              "      promise: fileDataPromise,\n",
              "      response: {\n",
              "        action: 'continue',\n",
              "      }\n",
              "    };\n",
              "\n",
              "    // Use a chunked sending to avoid message size limits. See b/62115660.\n",
              "    let position = 0;\n",
              "    do {\n",
              "      const length = Math.min(fileData.byteLength - position, MAX_PAYLOAD_SIZE);\n",
              "      const chunk = new Uint8Array(fileData, position, length);\n",
              "      position += length;\n",
              "\n",
              "      const base64 = btoa(String.fromCharCode.apply(null, chunk));\n",
              "      yield {\n",
              "        response: {\n",
              "          action: 'append',\n",
              "          file: file.name,\n",
              "          data: base64,\n",
              "        },\n",
              "      };\n",
              "\n",
              "      let percentDone = fileData.byteLength === 0 ?\n",
              "          100 :\n",
              "          Math.round((position / fileData.byteLength) * 100);\n",
              "      percent.textContent = `${percentDone}% done`;\n",
              "\n",
              "    } while (position < fileData.byteLength);\n",
              "  }\n",
              "\n",
              "  // All done.\n",
              "  yield {\n",
              "    response: {\n",
              "      action: 'complete',\n",
              "    }\n",
              "  };\n",
              "}\n",
              "\n",
              "scope.google = scope.google || {};\n",
              "scope.google.colab = scope.google.colab || {};\n",
              "scope.google.colab._files = {\n",
              "  _uploadFiles,\n",
              "  _uploadFilesContinue,\n",
              "};\n",
              "})(self);\n",
              "</script> "
            ]
          },
          "metadata": {}
        },
        {
          "output_type": "stream",
          "name": "stdout",
          "text": [
            "Saving Belimbing Wuluh328.jpg to Belimbing Wuluh328.jpg\n",
            "Saving Belimbing Wuluh329.jpg to Belimbing Wuluh329.jpg\n",
            "Saving Belimbing Wuluh330.jpg to Belimbing Wuluh330.jpg\n",
            "Saving Belimbing Wuluh331.jpg to Belimbing Wuluh331.jpg\n",
            "Saving Belimbing Wuluh332.jpg to Belimbing Wuluh332.jpg\n",
            "1/1 [==============================] - 0s 418ms/step\n",
            "[0.]\n",
            "Belimbing Wuluh328.jpg is a belimbing\n",
            "1/1 [==============================] - 0s 66ms/step\n",
            "[0.]\n",
            "Belimbing Wuluh329.jpg is a belimbing\n",
            "1/1 [==============================] - 0s 92ms/step\n",
            "[0.]\n",
            "Belimbing Wuluh330.jpg is a belimbing\n",
            "1/1 [==============================] - 0s 59ms/step\n",
            "[0.]\n",
            "Belimbing Wuluh331.jpg is a belimbing\n",
            "1/1 [==============================] - 0s 69ms/step\n",
            "[0.]\n",
            "Belimbing Wuluh332.jpg is a belimbing\n"
          ]
        }
      ]
    }
  ],
  "metadata": {
    "colab": {
      "provenance": [],
      "toc_visible": true,
      "authorship_tag": "ABX9TyOWJaUH+Z5l9mk/EdiQkF74",
      "include_colab_link": true
    },
    "kernelspec": {
      "display_name": "Python 3",
      "name": "python3"
    },
    "language_info": {
      "name": "python"
    }
  },
  "nbformat": 4,
  "nbformat_minor": 0
}